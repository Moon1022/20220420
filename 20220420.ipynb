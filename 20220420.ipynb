{
 "cells": [
  {
   "cell_type": "code",
   "execution_count": null,
   "id": "ea2bd83a",
   "metadata": {},
   "outputs": [],
   "source": [
    "nterms = int(input(\"where do you want to start？\"))\n",
    "n1 = 0\n",
    "n2 = 1\n",
    "count = 2\n",
    "if nterms <= 0:\n",
    "    print(\"pls input a integer\")\n",
    "else if nterms == 1:\n",
    "    print(n1)"
   ]
  },
  {
   "cell_type": "code",
   "execution_count": null,
   "id": "bd40ce92",
   "metadata": {},
   "outputs": [],
   "source": [
    "else:\n",
    "    print(n1, \",\", n2, end=\" , \")\n",
    "    while count < nterms:\n",
    "        nth = n1 + n2\n",
    "        print(nth, end=\" , \")\n",
    "        n1 = n2\n",
    "        n2 = nth\n",
    "        count += 1"
   ]
  },
  {
   "cell_type": "code",
   "execution_count": null,
   "id": "bd8f9291",
   "metadata": {},
   "outputs": [],
   "source": [
    "import random\n",
    "import string\n",
    "def random_user_id():\n",
    "    return ''.join(random.sample(string.ascii_letters + string.digits, 6))\n",
    "print(random_user_id())"
   ]
  },
  {
   "cell_type": "code",
   "execution_count": null,
   "id": "c89768e7",
   "metadata": {},
   "outputs": [],
   "source": [
    "a=int(input(\"pls enter how many ID u want\"))\n",
    "b=int(input(\"pls enter how many letters u want in a single ID\"))\n",
    "def user_id_gen_by_user():\n",
    "    c=[random.sample(string.ascii_letters + string.digits, b) for i in range(a)]\n",
    "    for l in c:\n",
    "        print(''.join(l))"
   ]
  },
  {
   "cell_type": "code",
   "execution_count": null,
   "id": "e2655b19",
   "metadata": {},
   "outputs": [],
   "source": [
    "user_id_gen_by_user()"
   ]
  },
  {
   "cell_type": "code",
   "execution_count": null,
   "id": "b049406a",
   "metadata": {},
   "outputs": [],
   "source": [
    "#exercise 1 part3\n",
    "def rgb_color_gen():\n",
    "    return [random.randint(0,255),random.randint(0,255),random.randint(0,255)]\n",
    "print(rgb_color_gen())\n",
    "#exercise 2 part 1\n",
    "def list_of_hexa_colors():\n",
    "    letter=[\"1\",\"2\",\"3\",\"4\",\"5\",\"6\",\"7\",\"8\",\"9\",\"0\",\"a\",'b','c','d','e','f']\n",
    "    hex=\"#\"+\"\".join(random.sample(letter,6))\n",
    "    return hex\n",
    "print(list_of_hexa_colors())"
   ]
  },
  {
   "cell_type": "code",
   "execution_count": null,
   "id": "652f929a",
   "metadata": {},
   "outputs": [],
   "source": [
    "#exercise 2 part 2\n",
    "def list_of_rgb_colors():\n",
    "    return(random.randint(0,255),random.randint(0,255),random.randint(0,255))\n",
    "print(list_of_rgb_colors())"
   ]
  },
  {
   "cell_type": "code",
   "execution_count": null,
   "id": "f9a0953b",
   "metadata": {},
   "outputs": [],
   "source": [
    "#exercise 2 part 3\n",
    "\n",
    "def generate_colors(input,times):\n",
    "    list=[]\n",
    "    if input == 'hexa':\n",
    "        while times != 0:\n",
    "            list.append(list_of_hexa_colors())\n",
    "            times-=1\n",
    "        return list\n",
    "    elif input =='rgb':\n",
    "        while times != 0:\n",
    "            list.append(list_of_rgb_colors())\n",
    "            times -= 1\n",
    "        return list\n",
    "    else:\n",
    "        print(\"error\")\n",
    "print(generate_colors('hexa',3))"
   ]
  },
  {
   "cell_type": "code",
   "execution_count": null,
   "id": "1b893901",
   "metadata": {},
   "outputs": [],
   "source": [
    "print(generate_colors('hexa',1))\n",
    "print(generate_colors('rgb',1))\n",
    "print(generate_colors('rgb',3))"
   ]
  },
  {
   "cell_type": "code",
   "execution_count": null,
   "id": "8c32669d",
   "metadata": {},
   "outputs": [],
   "source": [
    "def shuffle_list(seq) :\n",
    "    return random.shuffle(seq)\n",
    "\n",
    "def func():\n",
    "    num = [\"1\", \"2\", \"3\", \"4\", \"5\", \"6\", \"7\", \"8\", \"9\", \"0\"]\n",
    "    return random.sample(num,6)\n",
    "print(func())\n"
   ]
  },
  {
   "cell_type": "code",
   "execution_count": null,
   "id": "3ca5cbcd",
   "metadata": {},
   "outputs": [],
   "source": []
  },
  {
   "cell_type": "code",
   "execution_count": null,
   "id": "dd6d6031",
   "metadata": {},
   "outputs": [],
   "source": []
  },
  {
   "cell_type": "code",
   "execution_count": null,
   "id": "bebec1ba",
   "metadata": {},
   "outputs": [],
   "source": []
  }
 ],
 "metadata": {
  "kernelspec": {
   "display_name": "Python 3 (ipykernel)",
   "language": "python",
   "name": "python3"
  },
  "language_info": {
   "codemirror_mode": {
    "name": "ipython",
    "version": 3
   },
   "file_extension": ".py",
   "mimetype": "text/x-python",
   "name": "python",
   "nbconvert_exporter": "python",
   "pygments_lexer": "ipython3",
   "version": "3.9.7"
  }
 },
 "nbformat": 4,
 "nbformat_minor": 5
}
